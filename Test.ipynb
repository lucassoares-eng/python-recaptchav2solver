{
 "cells": [
  {
   "cell_type": "code",
   "execution_count": 1,
   "id": "991ad135-c3ca-4601-bcaf-9e276aa77bac",
   "metadata": {},
   "outputs": [],
   "source": [
    "from selenium import webdriver\n",
    "from recaptchav2solver import ReCAPTCHASolver"
   ]
  },
  {
   "cell_type": "code",
   "execution_count": 2,
   "id": "7e25a9a6-5f39-4f0a-83fc-7fa92080b232",
   "metadata": {},
   "outputs": [],
   "source": [
    "# Selenium driver setup\n",
    "driver = webdriver.Chrome() "
   ]
  },
  {
   "cell_type": "code",
   "execution_count": 12,
   "id": "1de5a1cc-6753-4c24-8a6e-173b19e9cb1b",
   "metadata": {},
   "outputs": [],
   "source": [
    "# Access the URL containing the reCAPTCHA\n",
    "url = 'https://www.google.com/recaptcha/api2/demo'\n",
    "driver.get(url)"
   ]
  },
  {
   "cell_type": "code",
   "execution_count": 13,
   "id": "273c47e7-2c8b-4452-a1b5-424925e52ea2",
   "metadata": {},
   "outputs": [
    {
     "name": "stdout",
     "output_type": "stream",
     "text": [
      "FFmpeg successfully configured!\n"
     ]
    }
   ],
   "source": [
    "# Solve the reCAPTCHA\n",
    "solver = ReCAPTCHASolver()\n",
    "solver.solve_recaptcha(driver)"
   ]
  }
 ],
 "metadata": {
  "kernelspec": {
   "display_name": "Python 3 (ipykernel)",
   "language": "python",
   "name": "python3"
  },
  "language_info": {
   "codemirror_mode": {
    "name": "ipython",
    "version": 3
   },
   "file_extension": ".py",
   "mimetype": "text/x-python",
   "name": "python",
   "nbconvert_exporter": "python",
   "pygments_lexer": "ipython3",
   "version": "3.12.0"
  }
 },
 "nbformat": 4,
 "nbformat_minor": 5
}
